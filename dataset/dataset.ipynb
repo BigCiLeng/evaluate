{
 "cells": [
  {
   "cell_type": "code",
   "execution_count": 1,
   "metadata": {},
   "outputs": [],
   "source": [
    "import numpy as np\n",
    "import pandas as pd"
   ]
  },
  {
   "cell_type": "code",
   "execution_count": 2,
   "metadata": {},
   "outputs": [],
   "source": [
    "rank=np.loadtxt('../../dataset/ship_design/main_five.csv',delimiter=',')\n",
    "data=np.loadtxt('../../dataset/ship_design/main_value.csv',delimiter=',')"
   ]
  },
  {
   "cell_type": "code",
   "execution_count": 3,
   "metadata": {},
   "outputs": [],
   "source": [
    "data_test=data[-100:]\n",
    "rank_test=rank[-100:]\n",
    "data_train=data[:len(data)-len(data_test)]\n",
    "rank_train=rank[:len(rank)-len(rank_test)]\n",
    "pd.DataFrame(data_train).to_csv('data_train.csv',index=False, header=0)\n",
    "pd.DataFrame(data_test).to_csv('data_test.csv',index=False, header=0)\n",
    "pd.DataFrame(rank_train).to_csv('rank_train.csv',index=False, header=0)\n",
    "pd.DataFrame(rank_test).to_csv('rank_test.csv',index=False, header=0)"
   ]
  }
 ],
 "metadata": {
  "kernelspec": {
   "display_name": "evaluate",
   "language": "python",
   "name": "python3"
  },
  "language_info": {
   "codemirror_mode": {
    "name": "ipython",
    "version": 3
   },
   "file_extension": ".py",
   "mimetype": "text/x-python",
   "name": "python",
   "nbconvert_exporter": "python",
   "pygments_lexer": "ipython3",
   "version": "3.8.15 (default, Nov 24 2022, 15:19:38) \n[GCC 11.2.0]"
  },
  "orig_nbformat": 4,
  "vscode": {
   "interpreter": {
    "hash": "3f06533b9483b4af55202f5bb6057e3d8076c00074d51c71d0addcb3bcad2dec"
   }
  }
 },
 "nbformat": 4,
 "nbformat_minor": 2
}
